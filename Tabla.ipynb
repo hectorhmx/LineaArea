{
 "cells": [
  {
   "cell_type": "code",
   "execution_count": 1,
   "metadata": {},
   "outputs": [
    {
     "name": "stdout",
     "output_type": "stream",
     "text": [
      "Numero de nodos\n",
      "4\n",
      "Tiene costo?\n",
      "0\n",
      "Esta dirigido?\n",
      "0\n",
      "Número de ejes?\n",
      "5\n",
      "u: 1\n",
      "v: 2\n",
      "u: 2\n",
      "v: 3\n",
      "u: 3\n",
      "v: 4\n",
      "u: 4\n",
      "v: 1\n",
      "u: 1\n",
      "v: 3\n",
      "[[0. 1. 1. 1.]\n",
      " [1. 0. 1. 0.]\n",
      " [1. 1. 0. 1.]\n",
      " [1. 0. 1. 0.]]\n"
     ]
    }
   ],
   "source": [
    "import numpy as np\n",
    "\n",
    "def print_graph(intMatrix):\n",
    "    print (intMatrix)\n",
    "\n",
    "def create_graph (matrix, hasCost, num_edges,directed):\n",
    "    i = 0\n",
    "    while i < num_edges :\n",
    "        u = int(input('u: '))\n",
    "        v = int(input('v: '))\n",
    "        if hasCost == True :\n",
    "            cost = int(input('Cost / weight: '))\n",
    "        else:\n",
    "            cost = 1\n",
    "        matrix[(u-1)][(v-1)] = cost;\n",
    "        if directed == False:\n",
    "            matrix[(v-1)][u-1] = cost;\n",
    "        i += 1\n",
    "\n",
    "\n",
    "def main():\n",
    "    print(\"Numero de nodos\")\n",
    "    num_nodes = int(input())\n",
    "    print(\"Tiene costo?\")\n",
    "    hasCost = int(input())\n",
    "    print(\"Esta dirigido?\")\n",
    "    directed = int(input())\n",
    "    directed = True if (directed == 1) else False \n",
    "    hasCost = True if (hasCost == 1) else False\n",
    "    print(\"Número de ejes?\")\n",
    "    num_edges = int(input())\n",
    "    matrix = np.zeros((num_nodes, num_nodes))\n",
    "    create_graph(matrix,hasCost,num_edges,directed)\n",
    "    print_graph(matrix)\n",
    "\n",
    "main()"
   ]
  },
  {
   "cell_type": "code",
   "execution_count": null,
   "metadata": {},
   "outputs": [],
   "source": []
  }
 ],
 "metadata": {
  "kernelspec": {
   "display_name": "Python 3",
   "language": "python",
   "name": "python3"
  },
  "language_info": {
   "codemirror_mode": {
    "name": "ipython",
    "version": 3
   },
   "file_extension": ".py",
   "mimetype": "text/x-python",
   "name": "python",
   "nbconvert_exporter": "python",
   "pygments_lexer": "ipython3",
   "version": "3.6.5"
  }
 },
 "nbformat": 4,
 "nbformat_minor": 2
}
